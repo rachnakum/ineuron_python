{
 "cells": [
  {
   "cell_type": "markdown",
   "id": "8c6fa904",
   "metadata": {},
   "source": [
    "1. Write a program which accepts a sequence of comma-separated numbers from console  and generate a list. "
   ]
  },
  {
   "cell_type": "code",
   "execution_count": 3,
   "id": "2630285f",
   "metadata": {},
   "outputs": [
    {
     "name": "stdout",
     "output_type": "stream",
     "text": [
      "Enter comma-separated numbers : 1,56,2,6,34\n",
      "List :  ['1', '56', '2', '6', '34']\n"
     ]
    }
   ],
   "source": [
    "Numbers=input(\"Enter comma-separated numbers : \")\n",
    "list=Numbers.split(\",\")\n",
    "print(\"List : \",list)\n"
   ]
  },
  {
   "cell_type": "markdown",
   "id": "858c0222",
   "metadata": {},
   "source": []
  },
  {
   "cell_type": "markdown",
   "id": "6918b886",
   "metadata": {},
   "source": []
  },
  {
   "cell_type": "markdown",
   "id": "f694dce9",
   "metadata": {},
   "source": [
    "2. Create the below pattern using nested for loop in Python."
   ]
  },
  {
   "cell_type": "code",
   "execution_count": 2,
   "id": "b7a83c4b",
   "metadata": {},
   "outputs": [
    {
     "name": "stdout",
     "output_type": "stream",
     "text": [
      "\r\n",
      "*\r\n",
      "**\r\n",
      "***\r\n",
      "****\r\n",
      "*****\r\n",
      "******\r\n",
      "*****\r\n",
      "****\r\n",
      "***\r\n",
      "**\r\n",
      "*\r\n"
     ]
    }
   ],
   "source": [
    "for i in range(0,6):\n",
    "    for j in range(0,i):\n",
    "                print(\"*\", end=\"\")\n",
    "    print(\"\\r\")\n",
    "for i in range(6,0,-1):\n",
    "    for j in range(0,i):\n",
    "        print(\"*\", end=\"\")\n",
    "    print(\"\\r\")"
   ]
  },
  {
   "cell_type": "markdown",
   "id": "90b5913d",
   "metadata": {},
   "source": []
  },
  {
   "cell_type": "markdown",
   "id": "9bd6ceff",
   "metadata": {},
   "source": []
  },
  {
   "cell_type": "markdown",
   "id": "5423fb98",
   "metadata": {},
   "source": [
    "3. Write a Python program to reverse a word after accepting the input from the user"
   ]
  },
  {
   "cell_type": "code",
   "execution_count": 9,
   "id": "31bc29f6",
   "metadata": {},
   "outputs": [
    {
     "name": "stdout",
     "output_type": "stream",
     "text": [
      "Enter a string to reverse : ineuron \n",
      "Reversed String :   norueni\n"
     ]
    }
   ],
   "source": [
    "word=str(input(\"Enter a string to reverse : \"))\n",
    "reserved_word=word[::-1]\n",
    "print(\"Reversed String : \",reserved_word)\n"
   ]
  },
  {
   "cell_type": "code",
   "execution_count": null,
   "id": "37d3b55b",
   "metadata": {},
   "outputs": [],
   "source": []
  }
 ],
 "metadata": {
  "kernelspec": {
   "display_name": "Python 3",
   "language": "python",
   "name": "python3"
  },
  "language_info": {
   "codemirror_mode": {
    "name": "ipython",
    "version": 3
   },
   "file_extension": ".py",
   "mimetype": "text/x-python",
   "name": "python",
   "nbconvert_exporter": "python",
   "pygments_lexer": "ipython3",
   "version": "3.8.8"
  }
 },
 "nbformat": 4,
 "nbformat_minor": 5
}
