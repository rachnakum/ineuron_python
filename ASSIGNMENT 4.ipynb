{
 "cells": [
  {
   "cell_type": "markdown",
   "id": "43230de6",
   "metadata": {},
   "source": [
    "1.1 Write a Python Program(with class concepts) to find the area of the triangle using the below  formula. \n",
    "area = (s*(s-a)*(s-b)*(s-c)) ** 0.5 \n",
    "Function to take the length of the sides of triangle from user should be defined in the parent  class and function to calculate the area should be defined in subclass. \n"
   ]
  },
  {
   "cell_type": "code",
   "execution_count": 1,
   "id": "4df02adf",
   "metadata": {},
   "outputs": [
    {
     "name": "stdout",
     "output_type": "stream",
     "text": [
      "Enter Side 1 of Triangle : 5\n",
      "Enter Side 3 of Triangle : 7.2\n",
      "Enter Side 3 of Triangle : 5.19\n",
      "Area of the triangle :  8.473897513873117\n"
     ]
    }
   ],
   "source": [
    "class area:\n",
    "    \n",
    "        def parameters(side1,side2,side3):\n",
    "            \n",
    "            area.side1=side1\n",
    "            area.side2=side2\n",
    "            area.side3=side3\n",
    "\n",
    "            \n",
    "\n",
    "        \n",
    "class areaoftriangle(area):\n",
    "        def cal():\n",
    "            s=(area.side1+area.side2+area.side3)/2\n",
    "            a=(s*(s-area.side1)*(s-area.side2)*(s-area.side2)) ** 0.5 \n",
    "\n",
    "            print(\"Area of the triangle : \",a)\n",
    "\n",
    "\n",
    "try:\n",
    "    objarea=area()\n",
    "    area.parameters(float(input(\"Enter Side 1 of Triangle : \")),float(input(\"Enter Side 3 of Triangle : \")),float(input(\"Enter Side 3 of Triangle : \")))\n",
    "\n",
    "    \n",
    "    objareaoftriangle=areaoftriangle()\n",
    "    areaoftriangle.cal()\n",
    "\n",
    "except Exception as e:\n",
    "    print(\"Exception Observed : \",e)\n",
    "    print(\"Please enter only digits\")\n",
    "    \n",
    "   \n",
    "  \n",
    "    \n"
   ]
  },
  {
   "cell_type": "markdown",
   "id": "e33bee8b",
   "metadata": {},
   "source": [
    "1.2 Write a function filter_long_words() that takes a list of words and an integer n and returns  the list of words that are longer than n. "
   ]
  },
  {
   "cell_type": "code",
   "execution_count": 3,
   "id": "71e0f57b",
   "metadata": {},
   "outputs": [
    {
     "name": "stdout",
     "output_type": "stream",
     "text": [
      "rachna\n",
      "kum\n",
      "is\n",
      "in\n",
      "ineuron\n",
      "List Entered :  ['rachna', 'kum', 'is', 'in', 'ineuron']\n",
      "Words Smaller than  5  are :  ['kum', 'is', 'in']\n"
     ]
    }
   ],
   "source": [
    "class assignment():\n",
    "    def filter_long_words(self,n):\n",
    "        self.n=n\n",
    "        list1=[]\n",
    "        finallist=[]\n",
    "        for i in range(0, 5):\n",
    "                element= str(input())\n",
    "                list1.append(element) # adding the element\n",
    "        print(\"List Entered : \",list1)\n",
    "        for j in list1:\n",
    "                if len(j)<n:\n",
    "                    finallist.append(j)\n",
    "        print(\"Words Smaller than \",n,\" are : \", finallist)\n",
    "assignmentobj=assignment()\n",
    "assignmentobj.filter_long_words(5)\n",
    "        \n",
    "        "
   ]
  },
  {
   "cell_type": "markdown",
   "id": "f9143207",
   "metadata": {},
   "source": [
    "2.1 Write a Python program using function concept that maps list of words into a list of integers  representing the lengths of the corresponding word"
   ]
  },
  {
   "cell_type": "code",
   "execution_count": 4,
   "id": "4411663d",
   "metadata": {},
   "outputs": [],
   "source": [
    "def nofowords(list1=[]):\n",
    "\n",
    "    finallist=[]\n",
    "    print(\"List entered by the user : \",list1)\n",
    "    for i in list1:\n",
    "\n",
    "        finallist.append(len(i))\n",
    "\n",
    "    print(\"Length of the words : \",finallist)"
   ]
  },
  {
   "cell_type": "code",
   "execution_count": 5,
   "id": "11423abe",
   "metadata": {},
   "outputs": [
    {
     "name": "stdout",
     "output_type": "stream",
     "text": [
      "List entered by the user :  ['rachna', 'kumari', 'study', 'inueron', 'python']\n",
      "Length of the words :  [6, 6, 5, 7, 6]\n"
     ]
    }
   ],
   "source": [
    "nofowords([\"rachna\",\"kumari\",\"study\",\"inueron\",\"python\"])"
   ]
  },
  {
   "cell_type": "markdown",
   "id": "e71f3717",
   "metadata": {},
   "source": [
    "2.2 Write a Python function which takes a character (i.e. a string of length 1) and returns True if  it is a vowel, False otherwise. "
   ]
  },
  {
   "cell_type": "code",
   "execution_count": 15,
   "id": "2637d5cd",
   "metadata": {},
   "outputs": [
    {
     "name": "stdout",
     "output_type": "stream",
     "text": [
      "True\n",
      "False\n"
     ]
    }
   ],
   "source": [
    "def vowel_check(letter):\n",
    "    vowel=('a','e','i','o','u')\n",
    "    if letter not in vowel:\n",
    "        return False\n",
    "    return True\n",
    "\n",
    "print(vowel_check('a'))\n",
    "print(vowel_check('y'))"
   ]
  },
  {
   "cell_type": "code",
   "execution_count": null,
   "id": "5d51f793",
   "metadata": {},
   "outputs": [],
   "source": []
  }
 ],
 "metadata": {
  "kernelspec": {
   "display_name": "Python 3",
   "language": "python",
   "name": "python3"
  },
  "language_info": {
   "codemirror_mode": {
    "name": "ipython",
    "version": 3
   },
   "file_extension": ".py",
   "mimetype": "text/x-python",
   "name": "python",
   "nbconvert_exporter": "python",
   "pygments_lexer": "ipython3",
   "version": "3.8.8"
  }
 },
 "nbformat": 4,
 "nbformat_minor": 5
}
