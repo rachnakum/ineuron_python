{
 "cells": [
  {
   "cell_type": "markdown",
   "id": "7401cc2f",
   "metadata": {},
   "source": [
    "1. Write a function to compute 5/0 and use try/except to catch the exceptions. "
   ]
  },
  {
   "cell_type": "code",
   "execution_count": 27,
   "id": "b0ac828b",
   "metadata": {},
   "outputs": [],
   "source": [
    "def compute(a):\n",
    "    try:\n",
    "        result = a/0\n",
    "        return result\n",
    "        \n",
    "    except Exception as e:\n",
    "        print(\"Division with 0 is not allowed\")\n",
    "     "
   ]
  },
  {
   "cell_type": "code",
   "execution_count": 28,
   "id": "c816e18f",
   "metadata": {},
   "outputs": [
    {
     "name": "stdout",
     "output_type": "stream",
     "text": [
      "Division with 0 is not allowed\n"
     ]
    }
   ],
   "source": [
    "compute(5)"
   ]
  },
  {
   "cell_type": "markdown",
   "id": "cccce78c",
   "metadata": {},
   "source": [
    "2. Implement a Python program to generate all sentences where subject is in  [\"Americans\", \"Indians\"] and verb is in [\"Play\", \"watch\"] and the object is in  [\"Baseball\",\"cricket\"]. \n",
    "\n",
    "Hint: Subject,Verb and Object should be declared in the program as shown below. \n",
    "\n",
    "subjects=[\"Americans \",\"Indians\"] \n",
    "\n",
    "verbs=[\"play\",\"watch\"] \n",
    "\n",
    "objects=[\"Baseball\",\"Cricket\"] \n"
   ]
  },
  {
   "cell_type": "code",
   "execution_count": 51,
   "id": "bc68b43a",
   "metadata": {},
   "outputs": [],
   "source": [
    "def combinedata():\n",
    "    subjects=[\"Americans\",\"Indians\"]\n",
    "    verbs=[\"play\",\"watch\"] \n",
    "    objects=[\"Baseball\",\"Cricket\"]\n",
    "    result=[]\n",
    "    for i in subjects:\n",
    "        for j in verbs:\n",
    "            for k in objects:\n",
    "                result.append(i+\" \"+j+\" \"+k+\".\")\n",
    "    for result in result:\n",
    "        print(result)"
   ]
  },
  {
   "cell_type": "code",
   "execution_count": 52,
   "id": "c05796c3",
   "metadata": {},
   "outputs": [
    {
     "name": "stdout",
     "output_type": "stream",
     "text": [
      "Americans play Baseball.\n",
      "Americans play Cricket.\n",
      "Americans watch Baseball.\n",
      "Americans watch Cricket.\n",
      "Indians play Baseball.\n",
      "Indians play Cricket.\n",
      "Indians watch Baseball.\n",
      "Indians watch Cricket.\n"
     ]
    }
   ],
   "source": [
    "combinedata()"
   ]
  },
  {
   "cell_type": "code",
   "execution_count": 45,
   "id": "7faa4ac1",
   "metadata": {},
   "outputs": [
    {
     "name": "stdout",
     "output_type": "stream",
     "text": [
      "Americans play Baseball.\n",
      "Americans play Cricket.\n",
      "Americans watch Baseball.\n",
      "Americans watch Cricket.\n",
      "Indians play Baseball.\n",
      "Indians play Cricket.\n",
      "Indians watch Baseball.\n",
      "Indians watch Cricket.\n"
     ]
    }
   ],
   "source": [
    "alldata=[(i+\" \"+j+\" \"+k+\".\") for i in ['Americans','Indians'] for j in ['play','watch'] for k in ['Baseball','Cricket']]\n",
    "for alldata in alldata:\n",
    "    print(alldata)"
   ]
  },
  {
   "cell_type": "code",
   "execution_count": null,
   "id": "e3cff22c",
   "metadata": {},
   "outputs": [],
   "source": []
  }
 ],
 "metadata": {
  "kernelspec": {
   "display_name": "Python 3",
   "language": "python",
   "name": "python3"
  },
  "language_info": {
   "codemirror_mode": {
    "name": "ipython",
    "version": 3
   },
   "file_extension": ".py",
   "mimetype": "text/x-python",
   "name": "python",
   "nbconvert_exporter": "python",
   "pygments_lexer": "ipython3",
   "version": "3.8.8"
  }
 },
 "nbformat": 4,
 "nbformat_minor": 5
}
