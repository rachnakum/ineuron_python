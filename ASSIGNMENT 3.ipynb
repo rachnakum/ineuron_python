{
 "cells": [
  {
   "cell_type": "markdown",
   "id": "fe31541b",
   "metadata": {},
   "source": [
    "# 1.1 Write a Python Program to implement your own myreduce() function which works exactly  like Python's built-in function reduce() "
   ]
  },
  {
   "cell_type": "code",
   "execution_count": 1,
   "id": "5426ae82",
   "metadata": {},
   "outputs": [],
   "source": [
    "def myreduce(mylist):\n",
    "    con_list=''.join(map(str,mylist))\n",
    "    return con_list"
   ]
  },
  {
   "cell_type": "code",
   "execution_count": 2,
   "id": "078258fb",
   "metadata": {},
   "outputs": [
    {
     "data": {
      "text/plain": [
       "'156rac7'"
      ]
     },
     "execution_count": 2,
     "metadata": {},
     "output_type": "execute_result"
    }
   ],
   "source": [
    "myreduce([1,56,\"rac\",7])"
   ]
  },
  {
   "cell_type": "code",
   "execution_count": 3,
   "id": "d4e4635b",
   "metadata": {},
   "outputs": [
    {
     "data": {
      "text/plain": [
       "'156rac7[1, 6, 3]'"
      ]
     },
     "execution_count": 3,
     "metadata": {},
     "output_type": "execute_result"
    }
   ],
   "source": [
    "myreduce([1,56,\"rac\",7,[1,6,3]])"
   ]
  },
  {
   "cell_type": "markdown",
   "id": "17bc99e1",
   "metadata": {},
   "source": [
    "# 1.2 Write a Python program to implement your own myfilter() function which works exactly  like Python's built-in function filter() "
   ]
  },
  {
   "cell_type": "code",
   "execution_count": 118,
   "id": "d512c3b1",
   "metadata": {},
   "outputs": [],
   "source": [
    "def myfilter(list1, list2):\n",
    "    result = []\n",
    "    for element in list1:\n",
    "        if element in list2:\n",
    "            result.append(element)\n",
    "    return result"
   ]
  },
  {
   "cell_type": "code",
   "execution_count": 119,
   "id": "411397ce",
   "metadata": {},
   "outputs": [
    {
     "data": {
      "text/plain": [
       "[5, 5]"
      ]
     },
     "execution_count": 119,
     "metadata": {},
     "output_type": "execute_result"
    }
   ],
   "source": [
    "myfilter([5,6,7,5,8],[1,2,3,4,5])"
   ]
  },
  {
   "cell_type": "code",
   "execution_count": 123,
   "id": "83ca4591",
   "metadata": {},
   "outputs": [],
   "source": [
    "list3=[1,7,3,5,9,10,\"rac\"]"
   ]
  },
  {
   "cell_type": "code",
   "execution_count": 124,
   "id": "d1141f70",
   "metadata": {},
   "outputs": [],
   "source": [
    "#function using filter\n",
    "\n",
    "def myfilter(n):\n",
    "    if type(n)==int and n>=5:\n",
    "        return True\n",
    "    else:\n",
    "        return False"
   ]
  },
  {
   "cell_type": "code",
   "execution_count": 125,
   "id": "f91a2507",
   "metadata": {},
   "outputs": [
    {
     "data": {
      "text/plain": [
       "[7, 5, 9, 10]"
      ]
     },
     "execution_count": 125,
     "metadata": {},
     "output_type": "execute_result"
    }
   ],
   "source": [
    "list(filter(myfilter,list3))"
   ]
  },
  {
   "cell_type": "code",
   "execution_count": 142,
   "id": "a4c675d5",
   "metadata": {},
   "outputs": [],
   "source": [
    "#function without using filter\n",
    "\n",
    "def myfilter(list1):\n",
    "    print(\"List : \",list1)\n",
    "    finallist=[]\n",
    "    for n in list1:\n",
    "        if type(n)==int and n>=5:\n",
    "            finallist.append(n)\n",
    "        else:\n",
    "            continue\n",
    "    return finallist"
   ]
  },
  {
   "cell_type": "code",
   "execution_count": 143,
   "id": "3a47e689",
   "metadata": {},
   "outputs": [
    {
     "name": "stdout",
     "output_type": "stream",
     "text": [
      "List :  [1, 7, 3, 5, 9, 10, 'rac']\n"
     ]
    },
    {
     "data": {
      "text/plain": [
       "[7, 5, 9, 10]"
      ]
     },
     "execution_count": 143,
     "metadata": {},
     "output_type": "execute_result"
    }
   ],
   "source": [
    "myfilter([1,7,3,5,9,10,\"rac\"])"
   ]
  },
  {
   "cell_type": "markdown",
   "id": "06e35503",
   "metadata": {},
   "source": [
    "# ['x', 'xx', 'xxx', 'xxxx', 'y', 'yy', 'yyy', 'yyyy', 'z', 'zz', 'zzz', 'zzzz']"
   ]
  },
  {
   "cell_type": "code",
   "execution_count": 159,
   "id": "c5d63562",
   "metadata": {},
   "outputs": [
    {
     "data": {
      "text/plain": [
       "['x', 'xx', 'xxx', 'xxxx', 'y', 'yy', 'yyy', 'yyyy', 'z', 'zz', 'zzz', 'zzzz']"
      ]
     },
     "execution_count": 159,
     "metadata": {},
     "output_type": "execute_result"
    }
   ],
   "source": [
    "[ x * i for x in ['x','y','z'] for i in range(1,5) ]"
   ]
  },
  {
   "cell_type": "markdown",
   "id": "4fd068c3",
   "metadata": {},
   "source": [
    "# ['x', 'y', 'z', 'xx', 'yy', 'zz', 'xxx', 'yyy', 'zzz', 'xxxx', 'yyyy', 'zzzz'] "
   ]
  },
  {
   "cell_type": "code",
   "execution_count": 174,
   "id": "a1626f46",
   "metadata": {},
   "outputs": [
    {
     "data": {
      "text/plain": [
       "['x', 'xx', 'xxx', 'xxxx', 'y', 'yy', 'yyy', 'yyyy', 'z', 'zz', 'zzz', 'zzzz']"
      ]
     },
     "execution_count": 174,
     "metadata": {},
     "output_type": "execute_result"
    }
   ],
   "source": [
    "[ n * i for n in ['x','y','z'] for i in range(1,5) ]"
   ]
  },
  {
   "cell_type": "code",
   "execution_count": 176,
   "id": "b5650527",
   "metadata": {},
   "outputs": [
    {
     "data": {
      "text/plain": [
       "['x', 'y', 'z', 'xx', 'yy', 'zz', 'xxx', 'yyy', 'zzz', 'xxxx', 'yyyy', 'zzzz']"
      ]
     },
     "execution_count": 176,
     "metadata": {},
     "output_type": "execute_result"
    }
   ],
   "source": [
    "[ x * i for i in range(1,5) for x in ['x','y','z']]"
   ]
  },
  {
   "cell_type": "markdown",
   "id": "db3edba6",
   "metadata": {},
   "source": [
    "# [[2], [3], [4], [3], [4], [5], [4], [5], [6]]"
   ]
  },
  {
   "cell_type": "code",
   "execution_count": 187,
   "id": "c8a2d930",
   "metadata": {},
   "outputs": [
    {
     "data": {
      "text/plain": [
       "[[2], [3], [4], [3], [4], [5], [4], [5], [6]]"
      ]
     },
     "execution_count": 187,
     "metadata": {},
     "output_type": "execute_result"
    }
   ],
   "source": [
    "[[i+j] for i in [2,3,4] for j in range(0,3)]"
   ]
  },
  {
   "cell_type": "markdown",
   "id": "7dab1d16",
   "metadata": {},
   "source": [
    "# [[2, 3, 4, 5], [3, 4, 5, 6], [4, 5, 6, 7], [5, 6, 7, 8]]"
   ]
  },
  {
   "cell_type": "code",
   "execution_count": 193,
   "id": "2cba3cbe",
   "metadata": {},
   "outputs": [
    {
     "data": {
      "text/plain": [
       "[[2, 3, 4], [3, 4, 5], [4, 5, 6], [5, 6, 7], [6, 7, 8]]"
      ]
     },
     "execution_count": 193,
     "metadata": {},
     "output_type": "execute_result"
    }
   ],
   "source": [
    "[[item+num for item in [2,3,4]] for num in range(0,5) ]"
   ]
  },
  {
   "cell_type": "markdown",
   "id": "1b4f1a4d",
   "metadata": {},
   "source": [
    "# [(1, 1), (2, 1), (3, 1), (1, 2), (2, 2), (3, 2), (1, 3), (2, 3), (3, 3)]"
   ]
  },
  {
   "cell_type": "code",
   "execution_count": 203,
   "id": "7ecc0cea",
   "metadata": {},
   "outputs": [
    {
     "data": {
      "text/plain": [
       "[(1, 1), (2, 1), (3, 1), (1, 2), (2, 2), (3, 2), (1, 3), (2, 3), (3, 3)]"
      ]
     },
     "execution_count": 203,
     "metadata": {},
     "output_type": "execute_result"
    }
   ],
   "source": [
    "[(item,num)  for num in range(1,4) for item in (1,2,3) ]"
   ]
  },
  {
   "cell_type": "code",
   "execution_count": null,
   "id": "f60880c6",
   "metadata": {},
   "outputs": [],
   "source": []
  }
 ],
 "metadata": {
  "kernelspec": {
   "display_name": "Python 3",
   "language": "python",
   "name": "python3"
  },
  "language_info": {
   "codemirror_mode": {
    "name": "ipython",
    "version": 3
   },
   "file_extension": ".py",
   "mimetype": "text/x-python",
   "name": "python",
   "nbconvert_exporter": "python",
   "pygments_lexer": "ipython3",
   "version": "3.8.8"
  }
 },
 "nbformat": 4,
 "nbformat_minor": 5
}
